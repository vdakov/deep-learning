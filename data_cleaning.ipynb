{
 "cells": [
  {
   "cell_type": "code",
   "execution_count": 2,
   "id": "503ca2d1-7d00-4cfa-afbf-c4ec12b7bb01",
   "metadata": {
    "tags": []
   },
   "outputs": [],
   "source": [
    "import sys\n",
    "import tensorflow.keras\n",
    "import tensorflow as tf\n",
    "import numpy as np\n",
    "import matplotlib.pyplot as plt"
   ]
  },
  {
   "cell_type": "code",
   "execution_count": 3,
   "id": "5d582f40-b176-4682-b153-3b4a4b0649c9",
   "metadata": {
    "tags": []
   },
   "outputs": [
    {
     "name": "stdout",
     "output_type": "stream",
     "text": [
      "Tensor Flow Version: 2.10.0\n",
      "\n",
      "Python 3.8.18 (default, Sep 11 2023, 13:39:12) [MSC v.1916 64 bit (AMD64)]\n",
      "GPUs Available:  1\n",
      "WARNING:tensorflow:From C:\\Users\\david.marecek\\AppData\\Local\\Temp\\ipykernel_27812\\1175069091.py:7: is_gpu_available (from tensorflow.python.framework.test_util) is deprecated and will be removed in a future version.\n",
      "Instructions for updating:\n",
      "Use `tf.config.list_physical_devices('GPU')` instead.\n"
     ]
    },
    {
     "data": {
      "text/plain": [
       "True"
      ]
     },
     "execution_count": 3,
     "metadata": {},
     "output_type": "execute_result"
    }
   ],
   "source": [
    "print(f\"Tensor Flow Version: {tf.__version__}\")\n",
    "#print(f\"Keras Version: {tensorflow.keras.__version__}\")\n",
    "print()\n",
    "print(f\"Python {sys.version}\")\n",
    "print(\"GPUs Available: \", len(tf.config.experimental.list_physical_devices('GPU')))\n",
    "tf.test.is_built_with_cuda()\n",
    "tf.test.is_gpu_available(cuda_only=False, min_cuda_compute_capability=None)"
   ]
  },
  {
   "cell_type": "code",
   "execution_count": 4,
   "id": "2b3619c0-6226-4875-a585-825b3ba74dfa",
   "metadata": {
    "tags": []
   },
   "outputs": [
    {
     "name": "stdout",
     "output_type": "stream",
     "text": [
      "(15480, 8) (15480,)\n",
      "[   2.7639        9.            8.75862069    1.72413793   66.\n",
      "    2.27586207   39.04       -122.69      ] 1.125\n"
     ]
    }
   ],
   "source": [
    "import pickle\n",
    "dict = pickle.load(open('california-housing-dataset.pkl', 'rb'))\n",
    "x_train, y_train = dict['x_train'], dict['y_train']\n",
    "x_test, y_test = dict['x_test'], dict['y_test']\n",
    "\n",
    "print(x_train.shape, y_train.shape)\n",
    "print(x_train[1,:], y_train[1])"
   ]
  },
  {
   "cell_type": "raw",
   "id": "9516d262-5b05-4b54-9e96-b70e9ebf9ab4",
   "metadata": {},
   "source": [
    "MedInc : median income in block group\n",
    "HouseAge : median age of a house within a block\n",
    "AveRooms : average number of rooms per household\n",
    "AveBedrms : average number of bedrooms per household\n",
    "Population : block group population\n",
    "AveOccup : average number of household members\n",
    "Latitude : a measure of how far north a house is\n",
    "Longitude : a measure of how far west a house is"
   ]
  },
  {
   "cell_type": "code",
   "execution_count": 5,
   "id": "b4d4a239-4ce5-4489-b79f-e0a3813f5003",
   "metadata": {
    "tags": []
   },
   "outputs": [
    {
     "name": "stdout",
     "output_type": "stream",
     "text": [
      "15.0001 0.4999\n",
      "52.0 1.0\n",
      "141.9090909090909 0.8461538461538461\n",
      "34.06666666666667 0.3333333333333333\n",
      "35682.0 5.0\n",
      "1243.3333333333333 0.6923076923076923\n",
      "41.95 32.54\n",
      "-114.31 -124.35\n",
      "5.00001 0.14999\n"
     ]
    }
   ],
   "source": [
    "for i in range(8):\n",
    "    x_train[:,i] = x_train[:,i]\n",
    "    print(max(x_train[:,i]), min(x_train[:,i]))\n",
    "print(max(y_train), min(y_train[:]))\n",
    "    "
   ]
  },
  {
   "cell_type": "code",
   "execution_count": 6,
   "metadata": {},
   "outputs": [
    {
     "name": "stdout",
     "output_type": "stream",
     "text": [
      "15480 (15480,)\n",
      "(14729,) (14729, 8)\n"
     ]
    }
   ],
   "source": [
    "#clean the data\n",
    "\n",
    "print(len(x_train), y_train.shape)\n",
    "\n",
    "y_train_clean = []\n",
    "x_train_clean = []\n",
    "\n",
    "for i  in range(len(y_train)):\n",
    "    if y_train[i] < 5:\n",
    "        y = y_train[i]\n",
    "        x = x_train[i,:]\n",
    "        y_train_clean = np.append(y_train_clean, y)\n",
    "        x_train_clean = np.append(x_train_clean, x)\n",
    "\n",
    "x_train_clean = np.reshape(x_train_clean, [14729,8])\n",
    "\n",
    "print(y_train_clean.shape, x_train_clean.shape)\n"
   ]
  },
  {
   "cell_type": "code",
   "execution_count": 11,
   "id": "412c1e19-d191-46dc-a70f-2a7fd7cfce9a",
   "metadata": {
    "tags": []
   },
   "outputs": [],
   "source": [
    "x_train_n = np.zeros((len(y_train_clean),8))\n",
    "\n",
    "x_train_n[:,0] = x_train_clean[:,0]/15.1\n",
    "x_train_n[:,1] = x_train_clean[:,1]/52\n",
    "x_train_n[:,2] = x_train_clean[:,2]/142\n",
    "x_train_n[:,3] = x_train_clean[:,3]/34.1\n",
    "x_train_n[:,4] = x_train_clean[:,4]/35682.0\n",
    "x_train_n[:,5] = x_train_clean[:,5]/1243.4\n",
    "x_train_n[:,6] = (x_train_clean[:,6]-32.5)/10\n",
    "x_train_n[:,7] = (x_train_clean[:,7]+124.4)/10.1\n",
    "\n",
    "y_train = y_train_clean/5.1"
   ]
  },
  {
   "cell_type": "code",
   "execution_count": 12,
   "id": "3ba53a09-8a45-4c53-90cb-0c90bb2fb5a8",
   "metadata": {
    "tags": []
   },
   "outputs": [
    {
     "name": "stdout",
     "output_type": "stream",
     "text": [
      "0.9933841059602649 0.03310596026490066\n",
      "1.0 0.019230769230769232\n",
      "0.9333333333333333 0.005958829902491874\n",
      "0.9990224828934506 0.009775171065493644\n",
      "1.0 0.00014012667451376043\n",
      "0.9999463835719263 0.0005567859838408334\n",
      "0.9450000000000003 0.003999999999999915\n",
      "0.9990099009900993 0.004950495049506076\n",
      "0.9784313725490197 0.029409803921568632\n"
     ]
    }
   ],
   "source": [
    "for i in range(8):\n",
    "    x_train_n[:,i] = x_train_n[:,i]\n",
    "    print(max(x_train_n[:,i]), min(x_train_n[:,i]))\n",
    "print(max(y_train), min(y_train))"
   ]
  }
 ],
 "metadata": {
  "kernelspec": {
   "display_name": "Python 3 (ipykernel)",
   "language": "python",
   "name": "python3"
  },
  "language_info": {
   "codemirror_mode": {
    "name": "ipython",
    "version": 3
   },
   "file_extension": ".py",
   "mimetype": "text/x-python",
   "name": "python",
   "nbconvert_exporter": "python",
   "pygments_lexer": "ipython3",
   "version": "3.8.18"
  }
 },
 "nbformat": 4,
 "nbformat_minor": 5
}
